{
 "cells": [
  {
   "cell_type": "markdown",
   "metadata": {},
   "source": [
    "# Indexing Data into the Open Research Knowledge Graph\n",
    "\n",
    "This Notebook shows how to index new Ressources into the ORKG from the TIB Hannover. The Papers we will index in this Notebook are retrieved from pubmed "
   ]
  },
  {
   "cell_type": "code",
   "execution_count": null,
   "metadata": {},
   "outputs": [],
   "source": [
    "import pandas as pd\n",
    "from Bio import Entrez, Medline\n",
    "from orkg import ORKG\n",
    "from orkg.utils import NamespacedClient, query_params, dict_to_url_params\n",
    "from orkg.out import OrkgResponse\n",
    "from orkg.client.resources import ResourcesClient\n",
    "from orkg import client\n",
    "from orkg.client.classes import ClassesClient"
   ]
  },
  {
   "cell_type": "markdown",
   "metadata": {},
   "source": [
    "# Retrieving Papers"
   ]
  },
  {
   "cell_type": "code",
   "execution_count": null,
   "metadata": {},
   "outputs": [],
   "source": [
    "Entrez.api_key = \"\" # if you don´t have an API-Key just use ur email-adress beneath\n",
    "Entrez.email = \"\""
   ]
  },
  {
   "cell_type": "code",
   "execution_count": null,
   "metadata": {},
   "outputs": [],
   "source": [
    "query = input(\"Enter a query: \") # enter the query you want to retrieve papers to"
   ]
  },
  {
   "cell_type": "code",
   "execution_count": null,
   "metadata": {},
   "outputs": [],
   "source": [
    "pubmed_idlist = []\n",
    "handle = Entrez.esearch(db=\"pubmed\", term = query, retmax = \"10\") # here we retrieve the pubmedID of top 10 results for that query\n",
    "record = Entrez.read(handle)\n",
    "pubmed_idlist.append(record[\"IdList\"])\n",
    "flat_pubmed_idlist = [item for sublist in pubmed_idlist for item in sublist]"
   ]
  },
  {
   "cell_type": "code",
   "execution_count": null,
   "metadata": {},
   "outputs": [],
   "source": [
    "flat_pubmed_idlist"
   ]
  },
  {
   "cell_type": "code",
   "execution_count": null,
   "metadata": {},
   "outputs": [],
   "source": [
    "handle = Entrez.efetch(db = \"pubmed\", id = flat_pubmed_idlist, rettype = \"medline\", retmode = \"json\") # retrieving the content of the paper\n",
    "records = Medline.parse(handle)\n",
    "\n",
    "data_list =[]\n",
    "\n",
    "for record in records:\n",
    "    data_list.append(record)"
   ]
  },
  {
   "cell_type": "code",
   "execution_count": null,
   "metadata": {},
   "outputs": [],
   "source": [
    "df = pd.DataFrame(data_list)"
   ]
  },
  {
   "cell_type": "code",
   "execution_count": null,
   "metadata": {},
   "outputs": [],
   "source": [
    "df = df[[\"TI\", \"AID\", \"AUID\", \"JT\"]]"
   ]
  },
  {
   "cell_type": "code",
   "execution_count": null,
   "metadata": {},
   "outputs": [],
   "source": [
    "df = df.rename(columns = {\"TI\" : \"paper:title\", \"AID\" : \"paper:DOI\", \"AUID\" : \"paper:authors\", \"JT\" : \"HAS_VENUE\"})"
   ]
  },
  {
   "cell_type": "markdown",
   "metadata": {},
   "source": [
    "# Adding research_field and research_problem manually"
   ]
  },
  {
   "cell_type": "code",
   "execution_count": null,
   "metadata": {},
   "outputs": [],
   "source": [
    "df[\"paper:research_field\"] = \"\"\n",
    "df[\"contribution:research_problem\"] = \"\""
   ]
  },
  {
   "cell_type": "code",
   "execution_count": null,
   "metadata": {},
   "outputs": [],
   "source": [
    "df[\"paper:research_field\"][0] = [\"R84\"] \n",
    "df[\"paper:research_field\"][1] = [\"R84\"]\n",
    "df[\"paper:research_field\"][2] = [\"R84\"]\n",
    "df[\"paper:research_field\"][3] = [\"R84\"]\n",
    "df[\"paper:research_field\"][4] = [\"R52\"]\n",
    "df[\"paper:research_field\"][5] = [\"R52\"]\n",
    "df[\"paper:research_field\"][6] = [\"R56\"]\n",
    "df[\"paper:research_field\"][7] = [\"R84\"]\n",
    "df[\"paper:research_field\"][8] = [\"R84\"]\n",
    "df[\"paper:research_field\"][9] = [\"R52\"]"
   ]
  },
  {
   "cell_type": "code",
   "execution_count": null,
   "metadata": {},
   "outputs": [],
   "source": [
    "df[\"contribution:research_problem\"][0] = [\"Effect of low dietry fiber on Crohn´s disease\"]\n",
    "df[\"contribution:research_problem\"][1] = [\"Short fatty acids as a therapeutical target in management of liver diseases\"]\n",
    "df[\"contribution:research_problem\"][2] = [\"Effects of obesity-induced insulin resistance\"]\n",
    "df[\"contribution:research_problem\"][3] = [\"Gut microbiome difference of breast-fed versus formula-fed infants\"]\n",
    "df[\"contribution:research_problem\"][4] = [\"Effect of limonite on diabetes mellitus\"]\n",
    "df[\"contribution:research_problem\"][5] = [\"Connection between gut microbiota and brain disease\"]\n",
    "df[\"contribution:research_problem\"][6] = [\"Connection between microbiota and, the immune system and metabolic disorders\"]\n",
    "df[\"contribution:research_problem\"][7] = [\"Effect of Ligilactobacillus salivarius on obesity\"]\n",
    "df[\"contribution:research_problem\"][8] = [\"Effect of Butyrat on obestiy related anxiety-like disorders\"]\n",
    "df[\"contribution:research_problem\"][9] = [\"Effect of gut microbiota on Idiopathic intracranial hypertension syndrome\"]"
   ]
  },
  {
   "cell_type": "markdown",
   "metadata": {},
   "source": [
    "# Adding triples manually\n",
    "The ORKG works with triples based on the Human Disease Ontology. So we have to add them manually since there are no pythonmoduls or NLP software to do so."
   ]
  },
  {
   "cell_type": "code",
   "execution_count": null,
   "metadata": {},
   "outputs": [],
   "source": [
    "df[\"keywords\"] = \"\""
   ]
  },
  {
   "cell_type": "code",
   "execution_count": null,
   "metadata": {},
   "outputs": [],
   "source": [
    "df[\"keywords\"][0] = [\"dietry fiber\", \"promotes\", \"Crohn's disease\"]\n",
    "df[\"keywords\"][1] = [\"obesity\", \"promotes\", \"liver diseases\"]\n",
    "df[\"keywords\"][2] = [\"high fat-diet\", \"causes\", \"obesity\"]\n",
    "df[\"keywords\"][3] = [\"gut microbiota\", \"influences\", \"diabetes\"]\n",
    "df[\"keywords\"][4] = [\"limonite intake\", \"decreases\", \"obesity\"]\n",
    "df[\"keywords\"][5] = [\"gut\", \"influences\", \"brain\"]\n",
    "df[\"keywords\"][6] = [\"NOD-1\", \"promotes\", \"obesity\"]\n",
    "df[\"keywords\"][7] = [\"LCK11\", \"prevents\", \"obesity\"]\n",
    "df[\"keywords\"][8] = [\"obesity\", \"influences\", \"anxiety disorder\"]\n",
    "df[\"keywords\"][9] = [\"obesity\", \"causes\", \"pseudotumor cerebri\"]"
   ]
  },
  {
   "cell_type": "code",
   "execution_count": 72,
   "metadata": {},
   "outputs": [],
   "source": [
    "df.to_csv(\"papers_about_obesity.csv\")"
   ]
  },
  {
   "cell_type": "markdown",
   "metadata": {},
   "source": [
    "# Adding the file as a ressource to the ORKG"
   ]
  },
  {
   "cell_type": "code",
   "execution_count": null,
   "metadata": {},
   "outputs": [],
   "source": [
    "orkg = ORKG(host=\"https://www.orkg.org/orkg\", creds=('orkg-email-address', 'orkg-password'))"
   ]
  },
  {
   "cell_type": "code",
   "execution_count": null,
   "metadata": {},
   "outputs": [],
   "source": [
    "orkg.papers.add_csv(file = \"papers_about_obesity.csv\")"
   ]
  }
 ],
 "metadata": {
  "kernelspec": {
   "display_name": "Python 3",
   "language": "python",
   "name": "python3"
  },
  "language_info": {
   "codemirror_mode": {
    "name": "ipython",
    "version": 3
   },
   "file_extension": ".py",
   "mimetype": "text/x-python",
   "name": "python",
   "nbconvert_exporter": "python",
   "pygments_lexer": "ipython3",
   "version": "3.7.4"
  }
 },
 "nbformat": 4,
 "nbformat_minor": 4
}
